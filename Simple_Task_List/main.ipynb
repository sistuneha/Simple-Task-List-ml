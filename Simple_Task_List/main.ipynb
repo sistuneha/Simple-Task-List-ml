{
  "nbformat": 4,
  "nbformat_minor": 0,
  "metadata": {
    "colab": {
      "provenance": []
    },
    "kernelspec": {
      "name": "python3",
      "display_name": "Python 3"
    },
    "language_info": {
      "name": "python"
    }
  },
  "cells": [
    {
      "cell_type": "code",
      "source": [
        "import pandas as pd\n",
        "from sklearn.feature_extraction.text import CountVectorizer\n",
        "from sklearn.naive_bayes import MultinomialNB\n",
        "from sklearn.pipeline import make_pipeline\n",
        "import random"
      ],
      "metadata": {
        "id": "q6zzs9ZJxBnT"
      },
      "execution_count": null,
      "outputs": []
    },
    {
      "cell_type": "code",
      "execution_count": null,
      "metadata": {
        "colab": {
          "base_uri": "https://localhost:8080/"
        },
        "id": "3BbHSyrbC4R-",
        "outputId": "2127be50-176f-43fa-9656-048b5faf84cd"
      },
      "outputs": [
        {
          "output_type": "stream",
          "name": "stdout",
          "text": [
            "Mounted at googledrive\n"
          ]
        }
      ],
      "source": [
        "from google.colab import drive\n",
        "drive.mount('googledrive')"
      ]
    },
    {
      "cell_type": "code",
      "source": [
        "tasks = pd.DataFrame(columns=['description', 'priority'])"
      ],
      "metadata": {
        "id": "YOnApCUYep6b"
      },
      "execution_count": null,
      "outputs": []
    },
    {
      "cell_type": "code",
      "source": [
        "try:\n",
        "    tasks = pd.read_csv('/content/drive/MyDrive/tasks.csv')\n",
        "except FileNotFoundError:\n",
        "    pass"
      ],
      "metadata": {
        "id": "BVKaMIMBet-V"
      },
      "execution_count": null,
      "outputs": []
    },
    {
      "cell_type": "code",
      "source": [
        "def save_tasks():\n",
        "    tasks.to_csv('googledrive/MyDrive/tasks.csv', index=False)"
      ],
      "metadata": {
        "id": "Ag_yAvTlev_-"
      },
      "execution_count": null,
      "outputs": []
    },
    {
      "cell_type": "code",
      "source": [
        "\n",
        "vectorizer = CountVectorizer()\n",
        "clf = MultinomialNB()\n",
        "model = make_pipeline(vectorizer, clf)"
      ],
      "metadata": {
        "id": "LdZ-NgYJfBHj"
      },
      "execution_count": null,
      "outputs": []
    },
    {
      "cell_type": "code",
      "source": [
        "vectorizer = CountVectorizer()\n",
        "clf = MultinomialNB()\n",
        "model = make_pipeline(vectorizer, clf)"
      ],
      "metadata": {
        "id": "p8mq1fx8xz8B"
      },
      "execution_count": null,
      "outputs": []
    },
    {
      "cell_type": "code",
      "source": [
        "model.fit(tasks['description'], tasks['priority'])"
      ],
      "metadata": {
        "colab": {
          "base_uri": "https://localhost:8080/",
          "height": 126
        },
        "id": "S6x_tJ8K74tF",
        "outputId": "3804870a-633a-4b52-f14d-50c415c0becd"
      },
      "execution_count": null,
      "outputs": [
        {
          "output_type": "execute_result",
          "data": {
            "text/plain": [
              "Pipeline(steps=[('countvectorizer', CountVectorizer()),\n",
              "                ('multinomialnb', MultinomialNB())])"
            ],
            "text/html": [
              "<style>#sk-container-id-2 {color: black;background-color: white;}#sk-container-id-2 pre{padding: 0;}#sk-container-id-2 div.sk-toggleable {background-color: white;}#sk-container-id-2 label.sk-toggleable__label {cursor: pointer;display: block;width: 100%;margin-bottom: 0;padding: 0.3em;box-sizing: border-box;text-align: center;}#sk-container-id-2 label.sk-toggleable__label-arrow:before {content: \"▸\";float: left;margin-right: 0.25em;color: #696969;}#sk-container-id-2 label.sk-toggleable__label-arrow:hover:before {color: black;}#sk-container-id-2 div.sk-estimator:hover label.sk-toggleable__label-arrow:before {color: black;}#sk-container-id-2 div.sk-toggleable__content {max-height: 0;max-width: 0;overflow: hidden;text-align: left;background-color: #f0f8ff;}#sk-container-id-2 div.sk-toggleable__content pre {margin: 0.2em;color: black;border-radius: 0.25em;background-color: #f0f8ff;}#sk-container-id-2 input.sk-toggleable__control:checked~div.sk-toggleable__content {max-height: 200px;max-width: 100%;overflow: auto;}#sk-container-id-2 input.sk-toggleable__control:checked~label.sk-toggleable__label-arrow:before {content: \"▾\";}#sk-container-id-2 div.sk-estimator input.sk-toggleable__control:checked~label.sk-toggleable__label {background-color: #d4ebff;}#sk-container-id-2 div.sk-label input.sk-toggleable__control:checked~label.sk-toggleable__label {background-color: #d4ebff;}#sk-container-id-2 input.sk-hidden--visually {border: 0;clip: rect(1px 1px 1px 1px);clip: rect(1px, 1px, 1px, 1px);height: 1px;margin: -1px;overflow: hidden;padding: 0;position: absolute;width: 1px;}#sk-container-id-2 div.sk-estimator {font-family: monospace;background-color: #f0f8ff;border: 1px dotted black;border-radius: 0.25em;box-sizing: border-box;margin-bottom: 0.5em;}#sk-container-id-2 div.sk-estimator:hover {background-color: #d4ebff;}#sk-container-id-2 div.sk-parallel-item::after {content: \"\";width: 100%;border-bottom: 1px solid gray;flex-grow: 1;}#sk-container-id-2 div.sk-label:hover label.sk-toggleable__label {background-color: #d4ebff;}#sk-container-id-2 div.sk-serial::before {content: \"\";position: absolute;border-left: 1px solid gray;box-sizing: border-box;top: 0;bottom: 0;left: 50%;z-index: 0;}#sk-container-id-2 div.sk-serial {display: flex;flex-direction: column;align-items: center;background-color: white;padding-right: 0.2em;padding-left: 0.2em;position: relative;}#sk-container-id-2 div.sk-item {position: relative;z-index: 1;}#sk-container-id-2 div.sk-parallel {display: flex;align-items: stretch;justify-content: center;background-color: white;position: relative;}#sk-container-id-2 div.sk-item::before, #sk-container-id-2 div.sk-parallel-item::before {content: \"\";position: absolute;border-left: 1px solid gray;box-sizing: border-box;top: 0;bottom: 0;left: 50%;z-index: -1;}#sk-container-id-2 div.sk-parallel-item {display: flex;flex-direction: column;z-index: 1;position: relative;background-color: white;}#sk-container-id-2 div.sk-parallel-item:first-child::after {align-self: flex-end;width: 50%;}#sk-container-id-2 div.sk-parallel-item:last-child::after {align-self: flex-start;width: 50%;}#sk-container-id-2 div.sk-parallel-item:only-child::after {width: 0;}#sk-container-id-2 div.sk-dashed-wrapped {border: 1px dashed gray;margin: 0 0.4em 0.5em 0.4em;box-sizing: border-box;padding-bottom: 0.4em;background-color: white;}#sk-container-id-2 div.sk-label label {font-family: monospace;font-weight: bold;display: inline-block;line-height: 1.2em;}#sk-container-id-2 div.sk-label-container {text-align: center;}#sk-container-id-2 div.sk-container {/* jupyter's `normalize.less` sets `[hidden] { display: none; }` but bootstrap.min.css set `[hidden] { display: none !important; }` so we also need the `!important` here to be able to override the default hidden behavior on the sphinx rendered scikit-learn.org. See: https://github.com/scikit-learn/scikit-learn/issues/21755 */display: inline-block !important;position: relative;}#sk-container-id-2 div.sk-text-repr-fallback {display: none;}</style><div id=\"sk-container-id-2\" class=\"sk-top-container\"><div class=\"sk-text-repr-fallback\"><pre>Pipeline(steps=[(&#x27;countvectorizer&#x27;, CountVectorizer()),\n",
              "                (&#x27;multinomialnb&#x27;, MultinomialNB())])</pre><b>In a Jupyter environment, please rerun this cell to show the HTML representation or trust the notebook. <br />On GitHub, the HTML representation is unable to render, please try loading this page with nbviewer.org.</b></div><div class=\"sk-container\" hidden><div class=\"sk-item sk-dashed-wrapped\"><div class=\"sk-label-container\"><div class=\"sk-label sk-toggleable\"><input class=\"sk-toggleable__control sk-hidden--visually\" id=\"sk-estimator-id-4\" type=\"checkbox\" ><label for=\"sk-estimator-id-4\" class=\"sk-toggleable__label sk-toggleable__label-arrow\">Pipeline</label><div class=\"sk-toggleable__content\"><pre>Pipeline(steps=[(&#x27;countvectorizer&#x27;, CountVectorizer()),\n",
              "                (&#x27;multinomialnb&#x27;, MultinomialNB())])</pre></div></div></div><div class=\"sk-serial\"><div class=\"sk-item\"><div class=\"sk-estimator sk-toggleable\"><input class=\"sk-toggleable__control sk-hidden--visually\" id=\"sk-estimator-id-5\" type=\"checkbox\" ><label for=\"sk-estimator-id-5\" class=\"sk-toggleable__label sk-toggleable__label-arrow\">CountVectorizer</label><div class=\"sk-toggleable__content\"><pre>CountVectorizer()</pre></div></div></div><div class=\"sk-item\"><div class=\"sk-estimator sk-toggleable\"><input class=\"sk-toggleable__control sk-hidden--visually\" id=\"sk-estimator-id-6\" type=\"checkbox\" ><label for=\"sk-estimator-id-6\" class=\"sk-toggleable__label sk-toggleable__label-arrow\">MultinomialNB</label><div class=\"sk-toggleable__content\"><pre>MultinomialNB()</pre></div></div></div></div></div></div></div>"
            ]
          },
          "metadata": {},
          "execution_count": 42
        }
      ]
    },
    {
      "cell_type": "code",
      "source": [
        "\n",
        "def add_task(description, priority):\n",
        "    global tasks\n",
        "    new_task = pd.DataFrame({'description': [description], 'priority': [priority]})\n",
        "    tasks = pd.concat([tasks, new_task], ignore_index=True)\n",
        "    save_tasks()"
      ],
      "metadata": {
        "id": "2u9txGRC55N8"
      },
      "execution_count": null,
      "outputs": []
    },
    {
      "cell_type": "code",
      "source": [
        "def remove_task(description):\n",
        "    tasks = tasks[tasks['description'] != description]\n",
        "    save_tasks()\n"
      ],
      "metadata": {
        "id": "nfChtMLA57Ka"
      },
      "execution_count": null,
      "outputs": []
    },
    {
      "cell_type": "code",
      "source": [
        "def list_tasks():\n",
        "    if tasks.empty:\n",
        "        print(\"No tasks available.\")\n",
        "    else:\n",
        "        print(tasks)"
      ],
      "metadata": {
        "id": "MCIIyPSP6GT4"
      },
      "execution_count": null,
      "outputs": []
    },
    {
      "cell_type": "code",
      "source": [
        "def recommend_task():\n",
        "    if not tasks.empty:\n",
        "\n",
        "        high_priority_tasks = tasks[tasks['priority'] == 'High']\n",
        "\n",
        "        if not high_priority_tasks.empty:\n",
        "\n",
        "            random_task = random.choice(high_priority_tasks['description'])\n",
        "            print(f\"Recommended task: {random_task} - Priority: High\")\n",
        "        else:\n",
        "            print(\"No high-priority tasks available for recommendation.\")\n",
        "    else:\n",
        "        print(\"No tasks available for recommendations.\")"
      ],
      "metadata": {
        "id": "tEMZr7496JMi"
      },
      "execution_count": null,
      "outputs": []
    },
    {
      "cell_type": "code",
      "source": [
        "\n",
        "while True:\n",
        "    print(\"\\nTask Management App\")\n",
        "    print(\"1. Add Task\")\n",
        "    print(\"2. Remove Task\")\n",
        "    print(\"3. List Tasks\")\n",
        "    print(\"4. Recommend Task\")\n",
        "    print(\"5. Exit\")\n",
        "\n",
        "    choice = input(\"Select an option: \")\n",
        "\n",
        "    if choice == \"1\":\n",
        "        description = input(\"Enter task description: \")\n",
        "        priority = input(\"Enter task priority (Low/Medium/High): \").capitalize()\n",
        "        add_task(description, priority)\n",
        "        print(\"Task added successfully.\")\n",
        "\n",
        "    elif choice == \"2\":\n",
        "        description = input(\"Enter task description to remove: \")\n",
        "        remove_task(description)\n",
        "        print(\"Task removed successfully.\")\n",
        "\n",
        "    elif choice == \"3\":\n",
        "        list_tasks()\n",
        "\n",
        "    elif choice == \"4\":\n",
        "        recommend_task()\n",
        "\n",
        "    elif choice == \"5\":\n",
        "        print(\"Goodbye!\")\n",
        "        break\n",
        "\n",
        "    else:\n",
        "        print(\"Invalid option. Please select a valid option.\")\n"
      ],
      "metadata": {
        "colab": {
          "base_uri": "https://localhost:8080/"
        },
        "id": "ZdHi-gSG6OuL",
        "outputId": "58167c3c-ddd8-4326-fe04-cd3c8ccc9625"
      },
      "execution_count": null,
      "outputs": [
        {
          "output_type": "stream",
          "name": "stdout",
          "text": [
            "\n",
            "Task Management App\n",
            "1. Add Task\n",
            "2. Remove Task\n",
            "3. List Tasks\n",
            "4. Recommend Task\n",
            "5. Exit\n",
            "Select an option: 1\n",
            "Enter task description: sleep\n",
            "Enter task priority (Low/Medium/High): low\n",
            "Task added successfully.\n",
            "\n",
            "Task Management App\n",
            "1. Add Task\n",
            "2. Remove Task\n",
            "3. List Tasks\n",
            "4. Recommend Task\n",
            "5. Exit\n",
            "Select an option: 5\n",
            "Goodbye!\n"
          ]
        }
      ]
    }
  ]
}